{
 "cells": [
  {
   "cell_type": "code",
   "execution_count": 1,
   "id": "480ae107",
   "metadata": {},
   "outputs": [],
   "source": [
    "try:\n",
    "    from PIL import Image\n",
    "except ImportError:\n",
    "    !pip install Pillow\n",
    "    from PIL import Image\n",
    "    \n",
    "def crop_image(image):\n",
    "    # Get the width and height of the original image\n",
    "    width, height = image.size\n",
    "\n",
    "    # Calculate the new width and height for cropping\n",
    "    crop_size = min(width, height)\n",
    "    new_width, new_height = crop_size, crop_size\n",
    "\n",
    "    # Calculate the top-left and bottom-right coordinates for cropping\n",
    "    left = width - new_width\n",
    "    top = height - new_height\n",
    "    right = width\n",
    "    bottom = height\n",
    "\n",
    "    # Crop the image from the bottom right corner\n",
    "    return image.crop((left, top, right, bottom))"
   ]
  },
  {
   "cell_type": "code",
   "execution_count": 2,
   "id": "db9be69c",
   "metadata": {},
   "outputs": [],
   "source": [
    "def resize_image(image, w=640, h=640):\n",
    "    # Resize image\n",
    "    return image.resize((w, h))"
   ]
  },
  {
   "cell_type": "code",
   "execution_count": 3,
   "id": "8b04f482",
   "metadata": {},
   "outputs": [],
   "source": [
    "import os\n",
    "\n",
    "def crop_resize_images(input_dir, output_dir):\n",
    "    # Create the output directory if it doesn't exist\n",
    "    os.makedirs(output_dir, exist_ok=True)\n",
    "\n",
    "    # Get all image files in the input directory\n",
    "    image_files = [f for f in os.listdir(input_dir) if os.path.isfile(os.path.join(input_dir, f))]\n",
    "\n",
    "    # Iterate over the image files\n",
    "    processed = 0\n",
    "    for image_file in image_files:\n",
    "        # Check if the file extension is valid\n",
    "        valid_extensions = ['.jpg', '.png', '.jpeg']\n",
    "        if not any(image_file.lower().endswith(ext) for ext in valid_extensions):\n",
    "            continue\n",
    "        \n",
    "        # Open the image\n",
    "        image_path = os.path.join(input_dir, image_file)\n",
    "        print(f\"Processing '{image_path}'\")\n",
    "        image = Image.open(image_path)\n",
    "\n",
    "        # Crop the image\n",
    "        cropped_image = crop_image(image)\n",
    "\n",
    "        # Resize the cropped image\n",
    "        resized_image = resize_image(cropped_image)\n",
    "\n",
    "        # Save the resized image to the output directory\n",
    "        output_path = os.path.join(output_dir, image_file)\n",
    "        resized_image.save(output_path)\n",
    "\n",
    "        # Display the path to the saved image\n",
    "        print(f\"Image saved at {output_path}\")\n",
    "        \n",
    "        processed += 1\n",
    "        \n",
    "    print(f'Total {processed} images processed')"
   ]
  },
  {
   "cell_type": "code",
   "execution_count": 4,
   "id": "6b26f30b",
   "metadata": {},
   "outputs": [
    {
     "name": "stdout",
     "output_type": "stream",
     "text": [
      "Processing 'dataset/samples\\dog-poop-vlcsnap-2023-05-25-11h54m17s206.png'\n",
      "Image saved at dataset/cropped_resize_images2\\dog-poop-vlcsnap-2023-05-25-11h54m17s206.png\n",
      "Processing 'dataset/samples\\dog-poop-vlcsnap-2023-05-25-11h52m44s998.png'\n",
      "Image saved at dataset/cropped_resize_images2\\dog-poop-vlcsnap-2023-05-25-11h52m44s998.png\n",
      "Processing 'dataset/samples\\dog-poop-vlcsnap-2023-05-25-11h53m10s759.png'\n",
      "Image saved at dataset/cropped_resize_images2\\dog-poop-vlcsnap-2023-05-25-11h53m10s759.png\n",
      "Processing 'dataset/samples\\dog-poop-vlcsnap-2023-05-25-11h53m29s770.png'\n",
      "Image saved at dataset/cropped_resize_images2\\dog-poop-vlcsnap-2023-05-25-11h53m29s770.png\n",
      "Processing 'dataset/samples\\dog-poop-vlcsnap-2023-05-25-11h53m38s202.png'\n",
      "Image saved at dataset/cropped_resize_images2\\dog-poop-vlcsnap-2023-05-25-11h53m38s202.png\n",
      "Total 5 images processed\n"
     ]
    }
   ],
   "source": [
    "input_dir = 'dataset/original_images'\n",
    "output_dir = 'dataset/cropped_resize_images'\n",
    "crop_resize_images(input_dir, output_dir)"
   ]
  },
  {
   "cell_type": "code",
   "execution_count": null,
   "id": "46cc21be",
   "metadata": {},
   "outputs": [],
   "source": []
  }
 ],
 "metadata": {
  "kernelspec": {
   "display_name": "Python 3 (ipykernel)",
   "language": "python",
   "name": "python3"
  },
  "language_info": {
   "codemirror_mode": {
    "name": "ipython",
    "version": 3
   },
   "file_extension": ".py",
   "mimetype": "text/x-python",
   "name": "python",
   "nbconvert_exporter": "python",
   "pygments_lexer": "ipython3",
   "version": "3.9.13"
  }
 },
 "nbformat": 4,
 "nbformat_minor": 5
}
